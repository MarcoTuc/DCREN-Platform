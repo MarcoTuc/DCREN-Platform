{
 "cells": [
  {
   "cell_type": "code",
   "execution_count": 1,
   "metadata": {},
   "outputs": [],
   "source": [
    "import pandas as pd "
   ]
  },
  {
   "cell_type": "code",
   "execution_count": 8,
   "metadata": {},
   "outputs": [
    {
     "data": {
      "text/html": [
       "<div>\n",
       "<style scoped>\n",
       "    .dataframe tbody tr th:only-of-type {\n",
       "        vertical-align: middle;\n",
       "    }\n",
       "\n",
       "    .dataframe tbody tr th {\n",
       "        vertical-align: top;\n",
       "    }\n",
       "\n",
       "    .dataframe thead th {\n",
       "        text-align: right;\n",
       "    }\n",
       "</style>\n",
       "<table border=\"1\" class=\"dataframe\">\n",
       "  <thead>\n",
       "    <tr style=\"text-align: right;\">\n",
       "      <th></th>\n",
       "      <th>SUID</th>\n",
       "      <th>RA</th>\n",
       "      <th>GE</th>\n",
       "      <th>HEIGHT</th>\n",
       "      <th>PHDRB</th>\n",
       "      <th>PHRDB</th>\n",
       "      <th>PHHFB</th>\n",
       "      <th>PHCADB</th>\n",
       "      <th>PHPADB</th>\n",
       "      <th>PHCVDB</th>\n",
       "      <th>...</th>\n",
       "      <th>TCOMB</th>\n",
       "      <th>FUTURE_AGEV_1</th>\n",
       "      <th>FUTURE_SCR_1</th>\n",
       "      <th>FUTURE_EGFR_1</th>\n",
       "      <th>FUTURE_DEGFR_1</th>\n",
       "      <th>FUTURE_TC_1</th>\n",
       "      <th>prev_AGEV</th>\n",
       "      <th>prev_SCR</th>\n",
       "      <th>prev_EGFR</th>\n",
       "      <th>DEGFR</th>\n",
       "    </tr>\n",
       "  </thead>\n",
       "  <tbody>\n",
       "    <tr>\n",
       "      <th>0</th>\n",
       "      <td>803459</td>\n",
       "      <td>Caucasian</td>\n",
       "      <td>Female</td>\n",
       "      <td>166.0</td>\n",
       "      <td>0.0</td>\n",
       "      <td>NaN</td>\n",
       "      <td>0.0</td>\n",
       "      <td>0.0</td>\n",
       "      <td>NaN</td>\n",
       "      <td>0.0</td>\n",
       "      <td>...</td>\n",
       "      <td>RS</td>\n",
       "      <td>57.0</td>\n",
       "      <td>1.12878</td>\n",
       "      <td>49.69222</td>\n",
       "      <td>-35.99744</td>\n",
       "      <td>uncontrolled</td>\n",
       "      <td>NaN</td>\n",
       "      <td>NaN</td>\n",
       "      <td>NaN</td>\n",
       "      <td>NaN</td>\n",
       "    </tr>\n",
       "  </tbody>\n",
       "</table>\n",
       "<p>1 rows × 153 columns</p>\n",
       "</div>"
      ],
      "text/plain": [
       "     SUID         RA      GE  HEIGHT  PHDRB  PHRDB  PHHFB  PHCADB  PHPADB  \\\n",
       "0  803459  Caucasian  Female   166.0    0.0    NaN    0.0     0.0     NaN   \n",
       "\n",
       "   PHCVDB  ...  TCOMB  FUTURE_AGEV_1  FUTURE_SCR_1  FUTURE_EGFR_1  \\\n",
       "0     0.0  ...     RS           57.0       1.12878       49.69222   \n",
       "\n",
       "   FUTURE_DEGFR_1   FUTURE_TC_1  prev_AGEV  prev_SCR  prev_EGFR  DEGFR  \n",
       "0       -35.99744  uncontrolled        NaN       NaN        NaN    NaN  \n",
       "\n",
       "[1 rows x 153 columns]"
      ]
     },
     "execution_count": 8,
     "metadata": {},
     "output_type": "execute_result"
    }
   ],
   "source": [
    "df = pd.read_csv(\"preprocess/preprocess.csv\")\n",
    "id = 803459\n",
    "\n",
    "df[df[\"SUID\"] == id]"
   ]
  },
  {
   "cell_type": "code",
   "execution_count": 6,
   "metadata": {},
   "outputs": [
    {
     "name": "stdout",
     "output_type": "stream",
     "text": [
      "0      False\n",
      "1      False\n",
      "2      False\n",
      "3      False\n",
      "4      False\n",
      "       ...  \n",
      "472    False\n",
      "473    False\n",
      "474    False\n",
      "475    False\n",
      "476    False\n",
      "Name: ID_match, Length: 477, dtype: bool\n"
     ]
    }
   ],
   "source": [
    "df = pd.read_csv(\"preprocess/preprocess.csv\")\n",
    "seqindex = df.columns.get_loc('SEQPOS')\n",
    "columnames = df.columns.tolist()\n",
    "newcolmap = {el:el+'_1' for el in columnames[seqindex:]}\n",
    "df['ID_match'] = df['SUID'].eq(df['SUID'].shift(-1))\n",
    "print(df['ID_match'])\n",
    "shdf = df.iloc[:,seqindex:].shift(-1).add_suffix('_2')\n",
    "df.rename(newcolmap, axis=1, inplace=True)\n",
    "resdf = pd.concat([df,shdf],axis=1)\n",
    "resdf = resdf[resdf['ID_match']]\n",
    "resdf = resdf.drop(['ID_match', 'ID_match_2'],axis=1)\n",
    "resdf.to_csv(\"preprocess/in_data_transformed_fix.csv\", index=False)"
   ]
  },
  {
   "cell_type": "code",
   "execution_count": null,
   "metadata": {},
   "outputs": [],
   "source": []
  }
 ],
 "metadata": {
  "kernelspec": {
   "display_name": "env",
   "language": "python",
   "name": "python3"
  },
  "language_info": {
   "codemirror_mode": {
    "name": "ipython",
    "version": 3
   },
   "file_extension": ".py",
   "mimetype": "text/x-python",
   "name": "python",
   "nbconvert_exporter": "python",
   "pygments_lexer": "ipython3",
   "version": "3.10.13"
  }
 },
 "nbformat": 4,
 "nbformat_minor": 2
}
