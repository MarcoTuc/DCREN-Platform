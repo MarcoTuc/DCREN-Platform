{
 "cells": [
  {
   "cell_type": "code",
   "execution_count": 1,
   "metadata": {},
   "outputs": [],
   "source": [
    "%load_ext autoreload\n",
    "%autoreload 2"
   ]
  },
  {
   "cell_type": "code",
   "execution_count": 2,
   "metadata": {},
   "outputs": [],
   "source": [
    "import os\n",
    "os.chdir(\"../\")"
   ]
  },
  {
   "cell_type": "code",
   "execution_count": 3,
   "metadata": {},
   "outputs": [],
   "source": [
    "from toolbox.validator import Oracle"
   ]
  },
  {
   "cell_type": "code",
   "execution_count": 5,
   "metadata": {},
   "outputs": [
    {
     "name": "stderr",
     "output_type": "stream",
     "text": [
      "<>:1: SyntaxWarning: invalid escape sequence '\\c'\n",
      "<>:1: SyntaxWarning: invalid escape sequence '\\c'\n",
      "C:\\Users\\marco\\AppData\\Local\\Temp\\ipykernel_21932\\3475570945.py:1: SyntaxWarning: invalid escape sequence '\\c'\n",
      "  DATA_path = \"data\\csv\\canvas_remapped.csv\"\n"
     ]
    }
   ],
   "source": [
    "DATA_path = \"data\\csv\\canvas_remapped.csv\""
   ]
  },
  {
   "cell_type": "code",
   "execution_count": 8,
   "metadata": {},
   "outputs": [],
   "source": [
    "import pandas as pd"
   ]
  },
  {
   "cell_type": "code",
   "execution_count": 21,
   "metadata": {},
   "outputs": [],
   "source": [
    "df = pd.read_csv(DATA_path)"
   ]
  },
  {
   "cell_type": "code",
   "execution_count": 23,
   "metadata": {},
   "outputs": [
    {
     "name": "stderr",
     "output_type": "stream",
     "text": [
      "<>:4: SyntaxWarning: invalid escape sequence '\\c'\n",
      "<>:4: SyntaxWarning: invalid escape sequence '\\c'\n",
      "C:\\Users\\marco\\AppData\\Local\\Temp\\ipykernel_21932\\3581968505.py:4: SyntaxWarning: invalid escape sequence '\\c'\n",
      "  df.to_csv(\"data\\csv\\canvas_remapped_nona.csv\")\n"
     ]
    }
   ],
   "source": [
    "future_cols = df.filter(regex=\"FUTURE\").columns\n",
    "\n",
    "df = df[~df[future_cols].isna().any(axis=1)]\n",
    "df.to_csv(\"data\\csv\\canvas_remapped_nona.csv\")"
   ]
  },
  {
   "cell_type": "code",
   "execution_count": 5,
   "metadata": {},
   "outputs": [
    {
     "name": "stdout",
     "output_type": "stream",
     "text": [
      "toolbox\\experiments\\opai\\canvas1\\2024-11-26\\10-3-3_RUN_ad0ba0cc\\ground\n"
     ]
    }
   ],
   "source": [
    "Oracle(test_path)()"
   ]
  },
  {
   "cell_type": "code",
   "execution_count": 6,
   "metadata": {},
   "outputs": [
    {
     "name": "stderr",
     "output_type": "stream",
     "text": [
      "<>:3: SyntaxWarning: invalid escape sequence '\\c'\n",
      "<>:3: SyntaxWarning: invalid escape sequence '\\c'\n",
      "C:\\Users\\marco\\AppData\\Local\\Temp\\ipykernel_19668\\1728441889.py:3: SyntaxWarning: invalid escape sequence '\\c'\n",
      "  data_path = \"data\\csv\\canvas_remapped_random_imported.csv\"\n"
     ]
    }
   ],
   "source": [
    "import pandas as pd\n",
    "\n",
    "data_path = \"data\\csv\\canvas_remapped_random_imported.csv\"\n",
    "\n",
    "df = pd.read_csv(data_path)"
   ]
  },
  {
   "cell_type": "code",
   "execution_count": 7,
   "metadata": {},
   "outputs": [
    {
     "data": {
      "text/plain": [
       "0       7.030139\n",
       "1            NaN\n",
       "2      -2.967032\n",
       "3            NaN\n",
       "4            NaN\n",
       "         ...    \n",
       "995          NaN\n",
       "996   -37.311262\n",
       "997          NaN\n",
       "998   -19.495133\n",
       "999     3.508547\n",
       "Name: DEGFR, Length: 1000, dtype: float64"
      ]
     },
     "execution_count": 7,
     "metadata": {},
     "output_type": "execute_result"
    }
   ],
   "source": [
    "df[\"DEGFR\"]"
   ]
  }
 ],
 "metadata": {
  "kernelspec": {
   "display_name": "env",
   "language": "python",
   "name": "python3"
  },
  "language_info": {
   "codemirror_mode": {
    "name": "ipython",
    "version": 3
   },
   "file_extension": ".py",
   "mimetype": "text/x-python",
   "name": "python",
   "nbconvert_exporter": "python",
   "pygments_lexer": "ipython3",
   "version": "3.12.6"
  }
 },
 "nbformat": 4,
 "nbformat_minor": 2
}
